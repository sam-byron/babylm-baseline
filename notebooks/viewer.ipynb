{
 "cells": [
  {
   "cell_type": "markdown",
   "id": "335a7c5d",
   "metadata": {},
   "source": [
    "# Simple Metrics Viewer"
   ]
  },
  {
   "cell_type": "code",
   "execution_count": null,
   "id": "4bf4c813",
   "metadata": {},
   "outputs": [],
   "source": [
    "# Parameters\n",
    "JSONL_PATH = str((DATA / 'sample_metrics.jsonl').resolve())\n",
    "METRICS = ['loss', 'accuracy', 'lr', 'grad_norm']\n",
    "SMOOTH = 5\n"
   ]
  },
  {
   "cell_type": "code",
   "execution_count": null,
   "id": "3f144b4d",
   "metadata": {},
   "outputs": [],
   "source": [
    "from pathlib import Path\n",
    "import sys\n",
    "from src.metrics_utils import read_jsonl, plot_metrics\n",
    "import matplotlib.pyplot as plt\n",
    "\n",
    "print('Loading:', JSONL_PATH)\n",
    "df = read_jsonl(JSONL_PATH)\n",
    "print(df.head())\n"
   ]
  },
  {
   "cell_type": "code",
   "execution_count": null,
   "id": "285d0b2a",
   "metadata": {},
   "outputs": [],
   "source": [
    "fig, ax = plot_metrics(df, metrics=METRICS[:2], x='step', smooth=SMOOTH, title='Viewer preview')\n",
    "plt.show()"
   ]
  }
 ],
 "metadata": {},
 "nbformat": 4,
 "nbformat_minor": 5
}
